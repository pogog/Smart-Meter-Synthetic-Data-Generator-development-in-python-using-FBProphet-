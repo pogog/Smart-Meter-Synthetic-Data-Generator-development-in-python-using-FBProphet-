{
 "cells": [
  {
   "cell_type": "markdown",
   "id": "47400c79",
   "metadata": {},
   "source": [
    "# SYNTHETIC DATA GENERATOR"
   ]
  },
  {
   "cell_type": "code",
   "execution_count": null,
   "id": "3ab20f44",
   "metadata": {},
   "outputs": [],
   "source": [
    " \n",
    "def add_numbers():\n",
    "    v=int(e2.get())\n",
    "    for v in range(1,21):\n",
    "        df=pd.read_csv('consumer_'+str(v)+'.csv')\n",
    "        df.dropna(inplace= True)\n",
    "        df.reset_index(drop=True, inplace=True)\n",
    "        df.columns = ['ds','y']\n",
    "        df['ds'] = pd.to_datetime(df['ds'])\n",
    "        len(df)\n",
    "        train = df.iloc[:len(df)-37]\n",
    "        test = df.iloc[len(df)-37:]\n",
    "        res=(int(e1.get())*48)\n",
    "        m = Prophet()\n",
    "        m = Prophet(changepoint_prior_scale=0.01).fit(df)\n",
    "        future = m.make_future_dataframe(periods=res, freq='30min')\n",
    "        forecast = m.predict(future)  \n",
    "        forecast.to_csv('PredictedallOutput_'+str(v)+'.csv')\n",
    "        df1 = pd.read_csv('PredictedallOutput_'+str(v)+'.csv')\n",
    "        df1.dropna(inplace = True)\n",
    "        df1.reset_index(drop = True, inplace = True)\n",
    "        df1 = df1.drop(['trend','yhat_lower','yhat_upper','trend_lower','trend_upper','additive_terms','additive_terms_lower','additive_terms_upper','daily','daily_lower','daily_upper','multiplicative_terms_lower','multiplicative_terms_upper','multiplicative_terms'], axis = 1)\n",
    "        filtered= df1.iloc[len(df1)-337:]\n",
    "        sparkDF = spark.createDataFrame(filtered)\n",
    "        sparkDF = sparkDF.drop(\"Unnamed: 0\")\n",
    "        sparkDF = sparkDF.withColumnRenamed('ds', 'DateTime')\n",
    "        sparkDF = sparkDF.withColumnRenamed('yhat','Predicted_consumption_Kwh')\n",
    "        sparkDF_csv = sparkDF.toPandas()\n",
    "        sparkDF_csv.to_csv('PredictedOutput_'+str(v)+'.csv', header=True, index=False)\n",
    "        \n",
    "    \n",
    "window = Tk()\n",
    "label_text=StringVar();\n",
    "Label(window, text=\"Enter no of days to predict:\").grid(row=0, sticky=W)\n",
    "Label(window, text=\"Enter no of meters:\").grid(row=1, sticky=W)\n",
    "Label(window, text=\"Data will be predicted from reference data\").grid(row=2, sticky=W)\n",
    "\n",
    "\n",
    "\n",
    " \n",
    "e1 = Entry(window)\n",
    "e2 = Entry(window)\n",
    " \n",
    "e1.grid(row=0, column=1)\n",
    "e2.grid(row=1, column=1)\n",
    " \n",
    "b = Button(window, text=\"submit\", command=add_numbers)\n",
    "b.grid(row=0, column=2,columnspan=2, rowspan=2,sticky=W+E+N+S, padx=5, pady=5)\n",
    " \n",
    " \n",
    "mainloop()"
   ]
  },
  {
   "cell_type": "code",
   "execution_count": null,
   "id": "a475af53",
   "metadata": {},
   "outputs": [],
   "source": []
  }
 ],
 "metadata": {
  "kernelspec": {
   "display_name": "Python 3 (ipykernel)",
   "language": "python",
   "name": "python3"
  },
  "language_info": {
   "codemirror_mode": {
    "name": "ipython",
    "version": 3
   },
   "file_extension": ".py",
   "mimetype": "text/x-python",
   "name": "python",
   "nbconvert_exporter": "python",
   "pygments_lexer": "ipython3",
   "version": "3.9.12"
  }
 },
 "nbformat": 4,
 "nbformat_minor": 5
}
