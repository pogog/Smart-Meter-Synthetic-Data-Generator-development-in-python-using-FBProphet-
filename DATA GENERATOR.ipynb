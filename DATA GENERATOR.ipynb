{
 "cells": [
  {
   "cell_type": "markdown",
   "id": "f36279a9",
   "metadata": {},
   "source": [
    "# SYNTHETIC DATA GENERATOR"
   ]
  },
  {
   "cell_type": "code",
   "execution_count": 46,
   "id": "3ab20f44",
   "metadata": {},
   "outputs": [
    {
     "ename": "KeyboardInterrupt",
     "evalue": "",
     "output_type": "error",
     "traceback": [
      "\u001b[0;31m---------------------------------------------------------------------------\u001b[0m",
      "\u001b[0;31mKeyboardInterrupt\u001b[0m                         Traceback (most recent call last)",
      "Input \u001b[0;32mIn [46]\u001b[0m, in \u001b[0;36m<cell line: 74>\u001b[0;34m()\u001b[0m\n\u001b[1;32m     70\u001b[0m b \u001b[38;5;241m=\u001b[39m Button(window, text\u001b[38;5;241m=\u001b[39m\u001b[38;5;124m\"\u001b[39m\u001b[38;5;124msubmit\u001b[39m\u001b[38;5;124m\"\u001b[39m, command\u001b[38;5;241m=\u001b[39madd_numbers)\n\u001b[1;32m     71\u001b[0m b\u001b[38;5;241m.\u001b[39mgrid(row\u001b[38;5;241m=\u001b[39m\u001b[38;5;241m0\u001b[39m, column\u001b[38;5;241m=\u001b[39m\u001b[38;5;241m2\u001b[39m,columnspan\u001b[38;5;241m=\u001b[39m\u001b[38;5;241m2\u001b[39m, rowspan\u001b[38;5;241m=\u001b[39m\u001b[38;5;241m2\u001b[39m,sticky\u001b[38;5;241m=\u001b[39mW\u001b[38;5;241m+\u001b[39mE\u001b[38;5;241m+\u001b[39mN\u001b[38;5;241m+\u001b[39mS, padx\u001b[38;5;241m=\u001b[39m\u001b[38;5;241m5\u001b[39m, pady\u001b[38;5;241m=\u001b[39m\u001b[38;5;241m5\u001b[39m)\n\u001b[0;32m---> 74\u001b[0m \u001b[43mmainloop\u001b[49m\u001b[43m(\u001b[49m\u001b[43m)\u001b[49m\n",
      "File \u001b[0;32m~/opt/anaconda3/lib/python3.9/tkinter/__init__.py:603\u001b[0m, in \u001b[0;36mmainloop\u001b[0;34m(n)\u001b[0m\n\u001b[1;32m    601\u001b[0m \u001b[38;5;28;01mdef\u001b[39;00m \u001b[38;5;21mmainloop\u001b[39m(n\u001b[38;5;241m=\u001b[39m\u001b[38;5;241m0\u001b[39m):\n\u001b[1;32m    602\u001b[0m     \u001b[38;5;124;03m\"\"\"Run the main loop of Tcl.\"\"\"\u001b[39;00m\n\u001b[0;32m--> 603\u001b[0m     \u001b[43m_get_default_root\u001b[49m\u001b[43m(\u001b[49m\u001b[38;5;124;43m'\u001b[39;49m\u001b[38;5;124;43mrun the main loop\u001b[39;49m\u001b[38;5;124;43m'\u001b[39;49m\u001b[43m)\u001b[49m\u001b[38;5;241;43m.\u001b[39;49m\u001b[43mtk\u001b[49m\u001b[38;5;241;43m.\u001b[39;49m\u001b[43mmainloop\u001b[49m\u001b[43m(\u001b[49m\u001b[43mn\u001b[49m\u001b[43m)\u001b[49m\n",
      "\u001b[0;31mKeyboardInterrupt\u001b[0m: "
     ]
    }
   ],
   "source": [
    "import pandas as pd\n",
    "\n",
    "import pyspark\n",
    "from pyspark.sql.types import StringType, BooleanType, IntegerType,datetime,time,calendar,FloatType\n",
    "from pyspark.sql.types import *\n",
    "from pyspark.sql import SparkSession\n",
    "spark=SparkSession.builder.appName('sunthetic data generator').getOrCreate()\n",
    "\n",
    "from fbprophet.plot import plot_plotly, plot_components_plotly\n",
    "from fbprophet import Prophet\n",
    "\n",
    "from tkinter import *\n",
    "def add_numbers():\n",
    "    v=int(e2.get())\n",
    "    h=v+1\n",
    "    for v in range(1,h):\n",
    "        df=pd.read_csv('consumer_'+str(v)+'.csv')\n",
    "        df.dropna(inplace= True)\n",
    "        df.reset_index(drop=True, inplace=True)\n",
    "        df.columns = ['ds','y']\n",
    "        df['ds'] = pd.to_datetime(df['ds'])\n",
    "        \n",
    "        train = df.iloc[:len(df)-37]\n",
    "        \n",
    "        test = df.iloc[len(df)-37:]\n",
    "       \n",
    "        res=(int(e1.get())*48)\n",
    "        m = Prophet()\n",
    "        m = Prophet(changepoint_prior_scale=0.01).fit(df)\n",
    "        future = m.make_future_dataframe(periods=res, freq='30min')\n",
    "        forecast = m.predict(future)  \n",
    "        forecast.to_csv('PredictedallOutput_'+str(v)+'.csv')\n",
    "        df1 = pd.read_csv('PredictedallOutput_'+str(v)+'.csv')\n",
    "        df1.dropna(inplace = True)\n",
    "        df1.reset_index(drop = True, inplace = True)\n",
    "        df1 = df1.drop(['trend','yhat_lower','yhat_upper','trend_lower','trend_upper','additive_terms','additive_terms_lower','additive_terms_upper','daily','daily_lower','daily_upper','multiplicative_terms_lower','multiplicative_terms_upper','multiplicative_terms'], axis = 1)\n",
    "        d=len(df1)\n",
    "        filtered= df1.iloc[d-res:]\n",
    "        sparkDF = spark.createDataFrame(filtered)\n",
    "        sparkDF = sparkDF.drop(\"Unnamed: 0\")\n",
    "        sparkDF = sparkDF.withColumnRenamed('ds', 'DateTime')\n",
    "        sparkDF = sparkDF.withColumnRenamed('yhat','Predicted_consumption_Kwh')\n",
    "        sparkDF_csv = sparkDF.toPandas()\n",
    "        sparkDF_csv.to_csv('PredictedOutput_'+str(v)+'.csv', header=True, index=False)\n",
    "    \n",
    "window = Tk()\n",
    "label_text=StringVar();\n",
    "Label(window, text=\"Enter no of days to predict:\").grid(row=0, sticky=W)\n",
    "Label(window, text=\"Enter no of meters:\").grid(row=1, sticky=W)\n",
    "Label(window, text=\"Data will be predicted from reference data\").grid(row=2, sticky=W)\n",
    "\n",
    "\n",
    "\n",
    " \n",
    "e1 = Entry(window)\n",
    "e2 = Entry(window)\n",
    " \n",
    "e1.grid(row=0, column=1)\n",
    "e2.grid(row=1, column=1)\n",
    " \n",
    "b = Button(window, text=\"submit\", command=add_numbers)\n",
    "b.grid(row=0, column=2,columnspan=2, rowspan=2,sticky=W+E+N+S, padx=5, pady=5)\n",
    " \n",
    " \n",
    "mainloop()"
   ]
  },
  {
   "cell_type": "code",
   "execution_count": null,
   "id": "419dd8db",
   "metadata": {},
   "outputs": [],
   "source": []
  },
  {
   "cell_type": "code",
   "execution_count": null,
   "id": "f7d79bed",
   "metadata": {},
   "outputs": [],
   "source": []
  }
 ],
 "metadata": {
  "kernelspec": {
   "display_name": "Python 3 (ipykernel)",
   "language": "python",
   "name": "python3"
  },
  "language_info": {
   "codemirror_mode": {
    "name": "ipython",
    "version": 3
   },
   "file_extension": ".py",
   "mimetype": "text/x-python",
   "name": "python",
   "nbconvert_exporter": "python",
   "pygments_lexer": "ipython3",
   "version": "3.9.12"
  }
 },
 "nbformat": 4,
 "nbformat_minor": 5
}
